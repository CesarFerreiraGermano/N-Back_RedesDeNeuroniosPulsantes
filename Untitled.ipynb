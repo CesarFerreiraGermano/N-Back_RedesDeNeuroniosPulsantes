{
 "cells": [
  {
   "cell_type": "code",
   "execution_count": 1,
   "metadata": {},
   "outputs": [],
   "source": [
    "import numpy as np\n",
    "import pandas as pd\n",
    "import seaborn as sns\n",
    "import matplotlib.pyplot as plt\n",
    "%matplotlib inline"
   ]
  },
  {
   "cell_type": "code",
   "execution_count": 3,
   "metadata": {},
   "outputs": [
    {
     "data": {
      "text/plain": [
       "(301, 20)"
      ]
     },
     "execution_count": 3,
     "metadata": {},
     "output_type": "execute_result"
    }
   ],
   "source": [
    "df = pd.read_csv('vandu.txt', sep=\" \", header=None)\n",
    "dfAcertos = pd.read_csv('file_taref.txt', header=None)\n",
    "df.shape"
   ]
  },
  {
   "cell_type": "code",
   "execution_count": 8,
   "metadata": {},
   "outputs": [
    {
     "data": {
      "image/png": "[encoded data removed]",
      "text/plain": [
       "<Figure size 432x288 with 2 Axes>"
      ]
     },
     "metadata": {},
     "output_type": "display_data"
    }
   ],
   "source": [
    "def plot_corr(corr):\n",
    "    # Cortaremos a metade de cima pois é o espelho da metade de baixo\n",
    "    mask = np.zeros_like(corr, dtype=np.bool)\n",
    "    mask[np.triu_indices_from(mask, 1)] = True\n",
    "\n",
    "    sns.heatmap(corr, mask=mask, cmap='YlGnBu', square=True, linewidths=.5, annot=True)\n",
    "\n",
    "df1 = df.drop([1,2,3,4,5,6,7,8,9,10,11,12,16,17,18,19],axis=1)\n",
    "df1.columns = ['t','V','U','I']\n",
    "corr = df1.drop(['t'],axis=1).corr()\n",
    "plot_corr(corr)\n",
    "plt.savefig('corr1.png')\n",
    "\n",
    "#sns.heatmap(df1.drop(['t'],axis=1).corr(), cmap=\"YlGnBu\")"
   ]
  },
  {
   "cell_type": "code",
   "execution_count": 9,
   "metadata": {},
   "outputs": [],
   "source": [
    "ultimo = 0\n",
    "principal = []\n",
    "secundario = []\n",
    "\n",
    "for i in range(0,101):\n",
    "    secundario.append(0.0)\n",
    "\n",
    "for i in range(0,50):\n",
    "    janela = i * 100\n",
    "    \n",
    "    if ultimo == 1:\n",
    "        for i in df.iloc[janela:(janela+100),16]:\n",
    "            secundario.append(i)\n",
    "    elif ultimo == 2:\n",
    "        for i in df.iloc[janela:(janela+100),17]:\n",
    "            secundario.append(i)\n",
    "    elif ultimo == 3:\n",
    "        for i in df.iloc[janela:(janela+100),18]:\n",
    "            secundario.append(i)\n",
    "    elif ultimo == 4:\n",
    "        for i in df.iloc[janela:(janela+100),16]:\n",
    "            secundario.append(i)\n",
    "        \n",
    "    if df.iloc[janela,3] == 15.0:\n",
    "        for j in df.iloc[janela:(janela+100),16]:\n",
    "            principal.append(j)\n",
    "        ultimo = 1\n",
    "    elif df.iloc[janela,6] == 15.0:\n",
    "        for j in df.iloc[janela:(janela+100),17]:\n",
    "            principal.append(j)\n",
    "        ultimo = 2\n",
    "    elif df.iloc[janela,9] == 15.0:\n",
    "        for j in df.iloc[janela:(janela+100),18]:\n",
    "            principal.append(j)\n",
    "        ultimo = 3\n",
    "    elif df.iloc[janela,12] == 15.0:\n",
    "        for j in df.iloc[janela:(janela+100),19]:\n",
    "            principal.append(j)\n",
    "        ultimo = 4\n",
    "\n",
    "df2 = df1\n",
    "principal.append(0.0)\n",
    "df2['I_High'] = principal\n",
    "df2['I_Low'] = secundario"
   ]
  },
  {
   "cell_type": "code",
   "execution_count": 10,
   "metadata": {},
   "outputs": [
    {
     "data": {
      "image/png": "[encoded data removed]",
      "text/plain": [
       "<Figure size 432x288 with 2 Axes>"
      ]
     },
     "metadata": {},
     "output_type": "display_data"
    }
   ],
   "source": [
    "corr =  df2.drop(['t'],axis=1).corr()\n",
    "plot_corr(corr)\n",
    "plt.savefig('corr2.png')"
   ]
  },
  {
   "cell_type": "code",
   "execution_count": 11,
   "metadata": {},
   "outputs": [
    {
     "ename": "SyntaxError",
     "evalue": "invalid syntax (<ipython-input-11-04e72be9efa4>, line 1)",
     "output_type": "error",
     "traceback": [
      "\u001b[0;36m  File \u001b[0;32m\"<ipython-input-11-04e72be9efa4>\"\u001b[0;36m, line \u001b[0;32m1\u001b[0m\n\u001b[0;31m    sns.pairplot(df2, cmap=)\u001b[0m\n\u001b[0m                           ^\u001b[0m\n\u001b[0;31mSyntaxError\u001b[0m\u001b[0;31m:\u001b[0m invalid syntax\n"
     ]
    }
   ],
   "source": [
    "sns.pairplot(df2, cmap=)"
   ]
  },
  {
   "cell_type": "code",
   "execution_count": 12,
   "metadata": {},
   "outputs": [],
   "source": [
    "neuron1Per = []\n",
    "neuron1Abs = []\n",
    "neuron2Per = []\n",
    "neuron2Abs = []\n",
    "neuron3Per = []\n",
    "neuron3Abs = []\n",
    "neuron4Per = []\n",
    "neuron4Abs = []\n",
    "estado = []\n",
    "saida = []\n",
    "\n",
    "for i in range(0,50):\n",
    "    i = i*100\n",
    "    estado.append(dfAcertos.iloc[i,0])\n",
    "    totalSaida = df.iloc[i:(i+99),15].sum()\n",
    "    saida.append(totalSaida)\n",
    "    neuron1Per.append(\"{:.2f}\".format((df.iloc[i:(i+99),16].sum())*100/(totalSaida)))\n",
    "    neuron1Abs.append(\"{:.2f}\".format((df.iloc[i:(i+99),16].sum())))\n",
    "    neuron2Per.append(\"{:.2f}\".format((df.iloc[i:(i+99),17].sum())*100/(totalSaida)))\n",
    "    neuron2Abs.append(\"{:.2f}\".format((df.iloc[i:(i+99),17].sum())))\n",
    "    neuron3Per.append(\"{:.2f}\".format((df.iloc[i:(i+99),18].sum())*100/(totalSaida)))\n",
    "    neuron3Abs.append(\"{:.2f}\".format((df.iloc[i:(i+99),18].sum())))\n",
    "    neuron4Per.append(\"{:.2f}\".format((df.iloc[i:(i+99),19].sum())*100/(totalSaida)))\n",
    "    neuron4Abs.append(\"{:.2f}\".format((df.iloc[i:(i+99),19].sum())))"
   ]
  },
  {
   "cell_type": "code",
   "execution_count": 13,
   "metadata": {},
   "outputs": [],
   "source": [
    "data = {\"neuron1Per\": neuron1Per,\"neuron1Abs\": neuron1Abs,\"neuron2Per\": neuron2Per,\"neuron2Abs\": neuron2Abs,\"neuron3Per\": neuron3Per,\"neuron3Abs\": neuron3Abs,\"neuron4Per\": neuron4Per,\"neuron4Abs\": neuron4Abs,\"estado\": estado, \"saida\": saida}\n",
    "info = pd.DataFrame(data)\n",
    "info.replace(\"-0.00\",\"0\", inplace=True)"
   ]
  },
  {
   "cell_type": "code",
   "execution_count": 13,
   "metadata": {},
   "outputs": [],
   "source": [
    "# Dataframe total"
   ]
  },
  {
   "cell_type": "code",
   "execution_count": 14,
   "metadata": {},
   "outputs": [],
   "source": [
    "df1 = df.iloc[100:,16]\n",
    "df2 = df.iloc[200:,16]\n",
    "df1.index = pd.RangeIndex(start=0, stop=4901, step=1)\n",
    "df2.index = pd.RangeIndex(start=0, stop=4801, step=1)\n",
    "df['I1_M1'] = df1 #.drop(['I1_M1'],axis=1,inplace=True)\n",
    "df['I1_M2'] = df2"
   ]
  },
  {
   "cell_type": "code",
   "execution_count": 15,
   "metadata": {},
   "outputs": [
    {
     "data": {
      "text/html": [
       "<div>\n",
       "<style scoped>\n",
       "    .dataframe tbody tr th:only-of-type {\n",
       "        vertical-align: middle;\n",
       "    }\n",
       "\n",
       "    .dataframe tbody tr th {\n",
       "        vertical-align: top;\n",
       "    }\n",
       "\n",
       "    .dataframe thead th {\n",
       "        text-align: right;\n",
       "    }\n",
       "</style>\n",
       "<table border=\"1\" class=\"dataframe\">\n",
       "  <thead>\n",
       "    <tr style=\"text-align: right;\">\n",
       "      <th></th>\n",
       "      <th>estado</th>\n",
       "      <th>neuron1Abs</th>\n",
       "      <th>neuron1Per</th>\n",
       "      <th>neuron2Abs</th>\n",
       "      <th>neuron2Per</th>\n",
       "      <th>neuron3Abs</th>\n",
       "      <th>neuron3Per</th>\n",
       "      <th>neuron4Abs</th>\n",
       "      <th>neuron4Per</th>\n",
       "      <th>saida</th>\n",
       "    </tr>\n",
       "  </thead>\n",
       "  <tbody>\n",
       "    <tr>\n",
       "      <th>0</th>\n",
       "      <td>2</td>\n",
       "      <td>0.00</td>\n",
       "      <td>0</td>\n",
       "      <td>0.00</td>\n",
       "      <td>0</td>\n",
       "      <td>0.00</td>\n",
       "      <td>0</td>\n",
       "      <td>-890.57</td>\n",
       "      <td>100.00</td>\n",
       "      <td>-890.57</td>\n",
       "    </tr>\n",
       "    <tr>\n",
       "      <th>1</th>\n",
       "      <td>2</td>\n",
       "      <td>0.00</td>\n",
       "      <td>0</td>\n",
       "      <td>0.00</td>\n",
       "      <td>0</td>\n",
       "      <td>-852.47</td>\n",
       "      <td>96.67</td>\n",
       "      <td>-29.48</td>\n",
       "      <td>3.34</td>\n",
       "      <td>-881.86</td>\n",
       "    </tr>\n",
       "    <tr>\n",
       "      <th>2</th>\n",
       "      <td>1</td>\n",
       "      <td>0.00</td>\n",
       "      <td>0</td>\n",
       "      <td>0.00</td>\n",
       "      <td>0</td>\n",
       "      <td>-33.11</td>\n",
       "      <td>4.51</td>\n",
       "      <td>-701.65</td>\n",
       "      <td>95.49</td>\n",
       "      <td>-734.81</td>\n",
       "    </tr>\n",
       "    <tr>\n",
       "      <th>3</th>\n",
       "      <td>0</td>\n",
       "      <td>0.00</td>\n",
       "      <td>0</td>\n",
       "      <td>0.00</td>\n",
       "      <td>0</td>\n",
       "      <td>-683.97</td>\n",
       "      <td>99.16</td>\n",
       "      <td>-5.89</td>\n",
       "      <td>0.85</td>\n",
       "      <td>-689.79</td>\n",
       "    </tr>\n",
       "    <tr>\n",
       "      <th>4</th>\n",
       "      <td>1</td>\n",
       "      <td>0.00</td>\n",
       "      <td>0</td>\n",
       "      <td>0.00</td>\n",
       "      <td>0</td>\n",
       "      <td>-7.18</td>\n",
       "      <td>1.01</td>\n",
       "      <td>-702.29</td>\n",
       "      <td>98.98</td>\n",
       "      <td>-709.50</td>\n",
       "    </tr>\n",
       "  </tbody>\n",
       "</table>\n",
       "</div>"
      ],
      "text/plain": [
       "   estado neuron1Abs neuron1Per neuron2Abs neuron2Per neuron3Abs neuron3Per  \\\n",
       "0       2       0.00          0       0.00          0       0.00          0   \n",
       "1       2       0.00          0       0.00          0    -852.47      96.67   \n",
       "2       1       0.00          0       0.00          0     -33.11       4.51   \n",
       "3       0       0.00          0       0.00          0    -683.97      99.16   \n",
       "4       1       0.00          0       0.00          0      -7.18       1.01   \n",
       "\n",
       "  neuron4Abs neuron4Per   saida  \n",
       "0    -890.57     100.00 -890.57  \n",
       "1     -29.48       3.34 -881.86  \n",
       "2    -701.65      95.49 -734.81  \n",
       "3      -5.89       0.85 -689.79  \n",
       "4    -702.29      98.98 -709.50  "
      ]
     },
     "execution_count": 15,
     "metadata": {},
     "output_type": "execute_result"
    }
   ],
   "source": [
    "info.head() #df.head()"
   ]
  },
  {
   "cell_type": "code",
   "execution_count": 16,
   "metadata": {},
   "outputs": [
    {
     "data": {
      "text/html": [
       "<div>\n",
       "<style scoped>\n",
       "    .dataframe tbody tr th:only-of-type {\n",
       "        vertical-align: middle;\n",
       "    }\n",
       "\n",
       "    .dataframe tbody tr th {\n",
       "        vertical-align: top;\n",
       "    }\n",
       "\n",
       "    .dataframe thead th {\n",
       "        text-align: right;\n",
       "    }\n",
       "</style>\n",
       "<table border=\"1\" class=\"dataframe\">\n",
       "  <thead>\n",
       "    <tr style=\"text-align: right;\">\n",
       "      <th></th>\n",
       "      <th>0</th>\n",
       "      <th>1</th>\n",
       "      <th>2</th>\n",
       "      <th>3</th>\n",
       "      <th>4</th>\n",
       "      <th>5</th>\n",
       "      <th>6</th>\n",
       "      <th>7</th>\n",
       "      <th>8</th>\n",
       "      <th>9</th>\n",
       "      <th>...</th>\n",
       "      <th>12</th>\n",
       "      <th>13</th>\n",
       "      <th>14</th>\n",
       "      <th>15</th>\n",
       "      <th>16</th>\n",
       "      <th>17</th>\n",
       "      <th>18</th>\n",
       "      <th>19</th>\n",
       "      <th>I1_M1</th>\n",
       "      <th>I1_M2</th>\n",
       "    </tr>\n",
       "  </thead>\n",
       "  <tbody>\n",
       "    <tr>\n",
       "      <th>0</th>\n",
       "      <td>1</td>\n",
       "      <td>-50.0</td>\n",
       "      <td>-10.0</td>\n",
       "      <td>0.0</td>\n",
       "      <td>-50.0</td>\n",
       "      <td>-10.0</td>\n",
       "      <td>0.0</td>\n",
       "      <td>-50.0</td>\n",
       "      <td>-10.0</td>\n",
       "      <td>0.0</td>\n",
       "      <td>...</td>\n",
       "      <td>15.0</td>\n",
       "      <td>-64.76</td>\n",
       "      <td>-16.25</td>\n",
       "      <td>0.00</td>\n",
       "      <td>-0.0</td>\n",
       "      <td>-0.0</td>\n",
       "      <td>-0.0</td>\n",
       "      <td>-0.00</td>\n",
       "      <td>-0.0</td>\n",
       "      <td>-0.0</td>\n",
       "    </tr>\n",
       "    <tr>\n",
       "      <th>1</th>\n",
       "      <td>2</td>\n",
       "      <td>-50.0</td>\n",
       "      <td>-10.0</td>\n",
       "      <td>0.0</td>\n",
       "      <td>-50.0</td>\n",
       "      <td>-10.0</td>\n",
       "      <td>0.0</td>\n",
       "      <td>-50.0</td>\n",
       "      <td>-10.0</td>\n",
       "      <td>0.0</td>\n",
       "      <td>...</td>\n",
       "      <td>15.0</td>\n",
       "      <td>-64.57</td>\n",
       "      <td>-16.25</td>\n",
       "      <td>0.00</td>\n",
       "      <td>-0.0</td>\n",
       "      <td>-0.0</td>\n",
       "      <td>-0.0</td>\n",
       "      <td>-0.00</td>\n",
       "      <td>-0.0</td>\n",
       "      <td>-0.0</td>\n",
       "    </tr>\n",
       "    <tr>\n",
       "      <th>2</th>\n",
       "      <td>3</td>\n",
       "      <td>-50.0</td>\n",
       "      <td>-10.0</td>\n",
       "      <td>0.0</td>\n",
       "      <td>-50.0</td>\n",
       "      <td>-10.0</td>\n",
       "      <td>0.0</td>\n",
       "      <td>-50.0</td>\n",
       "      <td>-10.0</td>\n",
       "      <td>0.0</td>\n",
       "      <td>...</td>\n",
       "      <td>15.0</td>\n",
       "      <td>-69.64</td>\n",
       "      <td>-16.27</td>\n",
       "      <td>-5.61</td>\n",
       "      <td>-0.0</td>\n",
       "      <td>-0.0</td>\n",
       "      <td>-0.0</td>\n",
       "      <td>-5.61</td>\n",
       "      <td>-0.0</td>\n",
       "      <td>-0.0</td>\n",
       "    </tr>\n",
       "    <tr>\n",
       "      <th>3</th>\n",
       "      <td>4</td>\n",
       "      <td>-50.0</td>\n",
       "      <td>-10.0</td>\n",
       "      <td>0.0</td>\n",
       "      <td>-50.0</td>\n",
       "      <td>-10.0</td>\n",
       "      <td>0.0</td>\n",
       "      <td>-50.0</td>\n",
       "      <td>-10.0</td>\n",
       "      <td>0.0</td>\n",
       "      <td>...</td>\n",
       "      <td>15.0</td>\n",
       "      <td>-75.76</td>\n",
       "      <td>-16.32</td>\n",
       "      <td>-9.53</td>\n",
       "      <td>-0.0</td>\n",
       "      <td>-0.0</td>\n",
       "      <td>-0.0</td>\n",
       "      <td>-9.53</td>\n",
       "      <td>-0.0</td>\n",
       "      <td>-0.0</td>\n",
       "    </tr>\n",
       "    <tr>\n",
       "      <th>4</th>\n",
       "      <td>5</td>\n",
       "      <td>-50.0</td>\n",
       "      <td>-10.0</td>\n",
       "      <td>0.0</td>\n",
       "      <td>-50.0</td>\n",
       "      <td>-10.0</td>\n",
       "      <td>0.0</td>\n",
       "      <td>-50.0</td>\n",
       "      <td>-10.0</td>\n",
       "      <td>0.0</td>\n",
       "      <td>...</td>\n",
       "      <td>15.0</td>\n",
       "      <td>-79.34</td>\n",
       "      <td>-16.39</td>\n",
       "      <td>-12.14</td>\n",
       "      <td>-0.0</td>\n",
       "      <td>-0.0</td>\n",
       "      <td>-0.0</td>\n",
       "      <td>-12.14</td>\n",
       "      <td>-0.0</td>\n",
       "      <td>-0.0</td>\n",
       "    </tr>\n",
       "  </tbody>\n",
       "</table>\n",
       "<p>5 rows × 22 columns</p>\n",
       "</div>"
      ],
      "text/plain": [
       "   0     1     2    3     4     5    6     7     8    9  ...      12     13  \\\n",
       "0  1 -50.0 -10.0  0.0 -50.0 -10.0  0.0 -50.0 -10.0  0.0  ...    15.0 -64.76   \n",
       "1  2 -50.0 -10.0  0.0 -50.0 -10.0  0.0 -50.0 -10.0  0.0  ...    15.0 -64.57   \n",
       "2  3 -50.0 -10.0  0.0 -50.0 -10.0  0.0 -50.0 -10.0  0.0  ...    15.0 -69.64   \n",
       "3  4 -50.0 -10.0  0.0 -50.0 -10.0  0.0 -50.0 -10.0  0.0  ...    15.0 -75.76   \n",
       "4  5 -50.0 -10.0  0.0 -50.0 -10.0  0.0 -50.0 -10.0  0.0  ...    15.0 -79.34   \n",
       "\n",
       "      14     15   16   17   18     19  I1_M1  I1_M2  \n",
       "0 -16.25   0.00 -0.0 -0.0 -0.0  -0.00   -0.0   -0.0  \n",
       "1 -16.25   0.00 -0.0 -0.0 -0.0  -0.00   -0.0   -0.0  \n",
       "2 -16.27  -5.61 -0.0 -0.0 -0.0  -5.61   -0.0   -0.0  \n",
       "3 -16.32  -9.53 -0.0 -0.0 -0.0  -9.53   -0.0   -0.0  \n",
       "4 -16.39 -12.14 -0.0 -0.0 -0.0 -12.14   -0.0   -0.0  \n",
       "\n",
       "[5 rows x 22 columns]"
      ]
     },
     "execution_count": 16,
     "metadata": {},
     "output_type": "execute_result"
    }
   ],
   "source": [
    "df1 = df.iloc[1500:1599,:]\n",
    "df.head()"
   ]
  },
  {
   "cell_type": "code",
   "execution_count": 15,
   "metadata": {},
   "outputs": [
    {
     "ename": "IndexingError",
     "evalue": "Too many indexers",
     "output_type": "error",
     "traceback": [
      "\u001b[0;31m---------------------------------------------------------------------------\u001b[0m",
      "\u001b[0;31mIndexingError\u001b[0m                             Traceback (most recent call last)",
      "\u001b[0;32m<ipython-input-15-e6b6f0fec55d>\u001b[0m in \u001b[0;36m<module>\u001b[0;34m()\u001b[0m\n\u001b[1;32m      7\u001b[0m \u001b[0mhouse_data\u001b[0m \u001b[0;34m=\u001b[0m \u001b[0mload_boston\u001b[0m\u001b[0;34m(\u001b[0m\u001b[0;34m)\u001b[0m\u001b[0;34m\u001b[0m\u001b[0m\n\u001b[1;32m      8\u001b[0m \u001b[0mdataX\u001b[0m \u001b[0;34m=\u001b[0m \u001b[0mdf\u001b[0m\u001b[0;34m.\u001b[0m\u001b[0miloc\u001b[0m\u001b[0;34m[\u001b[0m\u001b[0;36m200\u001b[0m\u001b[0;34m:\u001b[0m\u001b[0;34m,\u001b[0m\u001b[0;36m16\u001b[0m\u001b[0;34m:\u001b[0m\u001b[0;36m20\u001b[0m\u001b[0;34m]\u001b[0m\u001b[0;34m\u001b[0m\u001b[0m\n\u001b[0;32m----> 9\u001b[0;31m \u001b[0my\u001b[0m \u001b[0;34m=\u001b[0m \u001b[0mdf2\u001b[0m\u001b[0;34m.\u001b[0m\u001b[0miloc\u001b[0m\u001b[0;34m[\u001b[0m\u001b[0;36m200\u001b[0m\u001b[0;34m:\u001b[0m\u001b[0;34m,\u001b[0m\u001b[0;36m1\u001b[0m\u001b[0;34m]\u001b[0m\u001b[0;34m\u001b[0m\u001b[0m\n\u001b[0m\u001b[1;32m     10\u001b[0m \u001b[0mX\u001b[0m \u001b[0;34m=\u001b[0m \u001b[0mdataX\u001b[0m\u001b[0;34m.\u001b[0m\u001b[0mvalues\u001b[0m\u001b[0;34m.\u001b[0m\u001b[0mtolist\u001b[0m\u001b[0;34m(\u001b[0m\u001b[0;34m)\u001b[0m\u001b[0;34m\u001b[0m\u001b[0m\n",
      "\u001b[0;32m/usr/lib/python3.6/site-packages/pandas/core/indexing.py\u001b[0m in \u001b[0;36m__getitem__\u001b[0;34m(self, key)\u001b[0m\n\u001b[1;32m   1365\u001b[0m             \u001b[0;32mexcept\u001b[0m \u001b[0;34m(\u001b[0m\u001b[0mKeyError\u001b[0m\u001b[0;34m,\u001b[0m \u001b[0mIndexError\u001b[0m\u001b[0;34m)\u001b[0m\u001b[0;34m:\u001b[0m\u001b[0;34m\u001b[0m\u001b[0m\n\u001b[1;32m   1366\u001b[0m                 \u001b[0;32mpass\u001b[0m\u001b[0;34m\u001b[0m\u001b[0m\n\u001b[0;32m-> 1367\u001b[0;31m             \u001b[0;32mreturn\u001b[0m \u001b[0mself\u001b[0m\u001b[0;34m.\u001b[0m\u001b[0m_getitem_tuple\u001b[0m\u001b[0;34m(\u001b[0m\u001b[0mkey\u001b[0m\u001b[0;34m)\u001b[0m\u001b[0;34m\u001b[0m\u001b[0m\n\u001b[0m\u001b[1;32m   1368\u001b[0m         \u001b[0;32melse\u001b[0m\u001b[0;34m:\u001b[0m\u001b[0;34m\u001b[0m\u001b[0m\n\u001b[1;32m   1369\u001b[0m             \u001b[0;31m# we by definition only have the 0th axis\u001b[0m\u001b[0;34m\u001b[0m\u001b[0;34m\u001b[0m\u001b[0m\n",
      "\u001b[0;32m/usr/lib/python3.6/site-packages/pandas/core/indexing.py\u001b[0m in \u001b[0;36m_getitem_tuple\u001b[0;34m(self, tup)\u001b[0m\n\u001b[1;32m   1735\u001b[0m     \u001b[0;32mdef\u001b[0m \u001b[0m_getitem_tuple\u001b[0m\u001b[0;34m(\u001b[0m\u001b[0mself\u001b[0m\u001b[0;34m,\u001b[0m \u001b[0mtup\u001b[0m\u001b[0;34m)\u001b[0m\u001b[0;34m:\u001b[0m\u001b[0;34m\u001b[0m\u001b[0m\n\u001b[1;32m   1736\u001b[0m \u001b[0;34m\u001b[0m\u001b[0m\n\u001b[0;32m-> 1737\u001b[0;31m         \u001b[0mself\u001b[0m\u001b[0;34m.\u001b[0m\u001b[0m_has_valid_tuple\u001b[0m\u001b[0;34m(\u001b[0m\u001b[0mtup\u001b[0m\u001b[0;34m)\u001b[0m\u001b[0;34m\u001b[0m\u001b[0m\n\u001b[0m\u001b[1;32m   1738\u001b[0m         \u001b[0;32mtry\u001b[0m\u001b[0;34m:\u001b[0m\u001b[0;34m\u001b[0m\u001b[0m\n\u001b[1;32m   1739\u001b[0m             \u001b[0;32mreturn\u001b[0m \u001b[0mself\u001b[0m\u001b[0;34m.\u001b[0m\u001b[0m_getitem_lowerdim\u001b[0m\u001b[0;34m(\u001b[0m\u001b[0mtup\u001b[0m\u001b[0;34m)\u001b[0m\u001b[0;34m\u001b[0m\u001b[0m\n",
      "\u001b[0;32m/usr/lib/python3.6/site-packages/pandas/core/indexing.py\u001b[0m in \u001b[0;36m_has_valid_tuple\u001b[0;34m(self, key)\u001b[0m\n\u001b[1;32m    201\u001b[0m         \u001b[0;32mfor\u001b[0m \u001b[0mi\u001b[0m\u001b[0;34m,\u001b[0m \u001b[0mk\u001b[0m \u001b[0;32min\u001b[0m \u001b[0menumerate\u001b[0m\u001b[0;34m(\u001b[0m\u001b[0mkey\u001b[0m\u001b[0;34m)\u001b[0m\u001b[0;34m:\u001b[0m\u001b[0;34m\u001b[0m\u001b[0m\n\u001b[1;32m    202\u001b[0m             \u001b[0;32mif\u001b[0m \u001b[0mi\u001b[0m \u001b[0;34m>=\u001b[0m \u001b[0mself\u001b[0m\u001b[0;34m.\u001b[0m\u001b[0mobj\u001b[0m\u001b[0;34m.\u001b[0m\u001b[0mndim\u001b[0m\u001b[0;34m:\u001b[0m\u001b[0;34m\u001b[0m\u001b[0m\n\u001b[0;32m--> 203\u001b[0;31m                 \u001b[0;32mraise\u001b[0m \u001b[0mIndexingError\u001b[0m\u001b[0;34m(\u001b[0m\u001b[0;34m'Too many indexers'\u001b[0m\u001b[0;34m)\u001b[0m\u001b[0;34m\u001b[0m\u001b[0m\n\u001b[0m\u001b[1;32m    204\u001b[0m             \u001b[0;32mif\u001b[0m \u001b[0;32mnot\u001b[0m \u001b[0mself\u001b[0m\u001b[0;34m.\u001b[0m\u001b[0m_has_valid_type\u001b[0m\u001b[0;34m(\u001b[0m\u001b[0mk\u001b[0m\u001b[0;34m,\u001b[0m \u001b[0mi\u001b[0m\u001b[0;34m)\u001b[0m\u001b[0;34m:\u001b[0m\u001b[0;34m\u001b[0m\u001b[0m\n\u001b[1;32m    205\u001b[0m                 raise ValueError(\"Location based indexing can only have \"\n",
      "\u001b[0;31mIndexingError\u001b[0m: Too many indexers"
     ]
    }
   ],
   "source": [
    "from sklearn.datasets import load_boston # para carregar os dados\n",
    "from sklearn.model_selection import train_test_split\n",
    "from sklearn.linear_model import LinearRegression # importa o modelo\n",
    "import matplotlib.pyplot as plt\n",
    "\n",
    "# carrega os dados\n",
    "house_data = load_boston()\n",
    "dataX = df.iloc[200:,16:20]\n",
    "y = df2.iloc[200:,1]\n",
    "X = dataX.values.tolist()"
   ]
  },
  {
   "cell_type": "code",
   "execution_count": 4,
   "metadata": {},
   "outputs": [
    {
     "ename": "NameError",
     "evalue": "name 'train_test_split' is not defined",
     "output_type": "error",
     "traceback": [
      "\u001b[0;31m---------------------------------------------------------------------------\u001b[0m",
      "\u001b[0;31mNameError\u001b[0m                                 Traceback (most recent call last)",
      "\u001b[0;32m<ipython-input-4-0d4afaada37b>\u001b[0m in \u001b[0;36m<module>\u001b[0;34m()\u001b[0m\n\u001b[0;32m----> 1\u001b[0;31m \u001b[0mX_train\u001b[0m\u001b[0;34m,\u001b[0m \u001b[0mX_test\u001b[0m\u001b[0;34m,\u001b[0m \u001b[0my_train\u001b[0m\u001b[0;34m,\u001b[0m \u001b[0my_test\u001b[0m \u001b[0;34m=\u001b[0m \u001b[0mtrain_test_split\u001b[0m\u001b[0;34m(\u001b[0m\u001b[0mX\u001b[0m\u001b[0;34m,\u001b[0m \u001b[0my\u001b[0m\u001b[0;34m,\u001b[0m \u001b[0mtest_size\u001b[0m\u001b[0;34m=\u001b[0m\u001b[0;36m0.33\u001b[0m\u001b[0;34m,\u001b[0m \u001b[0mrandom_state\u001b[0m\u001b[0;34m=\u001b[0m\u001b[0;36m0\u001b[0m\u001b[0;34m)\u001b[0m\u001b[0;34m\u001b[0m\u001b[0m\n\u001b[0m",
      "\u001b[0;31mNameError\u001b[0m: name 'train_test_split' is not defined"
     ]
    }
   ],
   "source": [
    "X_train, X_test, y_train, y_test = train_test_split(X, y, test_size=0.33, random_state=0)"
   ]
  },
  {
   "cell_type": "code",
   "execution_count": 56,
   "metadata": {},
   "outputs": [
    {
     "data": {
      "text/plain": [
       "LinearRegression(copy_X=True, fit_intercept=True, n_jobs=1, normalize=False)"
      ]
     },
     "execution_count": 56,
     "metadata": {},
     "output_type": "execute_result"
    }
   ],
   "source": [
    "regr = LinearRegression() # cria o modelo\n",
    "regr.fit(X_train, y_train) # treina o modelo"
   ]
  },
  {
   "cell_type": "code",
   "execution_count": 57,
   "metadata": {},
   "outputs": [
    {
     "name": "stdout",
     "output_type": "stream",
     "text": [
      "R2 no set de treino: 0.39\n",
      "R2 no set de teste: 0.47\n"
     ]
    }
   ],
   "source": [
    "r2_train = regr.score(X_train, y_train)\n",
    "r2_test = regr.score(X_test, y_test)\n",
    "print('R2 no set de treino: %.2f' % r2_train)\n",
    "print('R2 no set de teste: %.2f' % r2_test)"
   ]
  },
  {
   "cell_type": "code",
   "execution_count": 58,
   "metadata": {},
   "outputs": [],
   "source": [
    "%matplotlib inline\n",
    "import scipy as sp\n",
    "import pandas as pd\n",
    "import matplotlib.pyplot as plt\n",
    "import statsmodels.formula.api as sm"
   ]
  },
  {
   "cell_type": "code",
   "execution_count": 70,
   "metadata": {},
   "outputs": [
    {
     "data": {
      "text/html": [
       "<div>\n",
       "<style scoped>\n",
       "    .dataframe tbody tr th:only-of-type {\n",
       "        vertical-align: middle;\n",
       "    }\n",
       "\n",
       "    .dataframe tbody tr th {\n",
       "        vertical-align: top;\n",
       "    }\n",
       "\n",
       "    .dataframe thead th {\n",
       "        text-align: right;\n",
       "    }\n",
       "</style>\n",
       "<table border=\"1\" class=\"dataframe\">\n",
       "  <thead>\n",
       "    <tr style=\"text-align: right;\">\n",
       "      <th></th>\n",
       "      <th>t</th>\n",
       "      <th>V</th>\n",
       "      <th>U</th>\n",
       "      <th>I</th>\n",
       "      <th>I_High</th>\n",
       "      <th>I_Low</th>\n",
       "    </tr>\n",
       "  </thead>\n",
       "  <tbody>\n",
       "    <tr>\n",
       "      <th>0</th>\n",
       "      <td>1</td>\n",
       "      <td>-64.76</td>\n",
       "      <td>-16.25</td>\n",
       "      <td>0.00</td>\n",
       "      <td>-0.00</td>\n",
       "      <td>0.0</td>\n",
       "    </tr>\n",
       "    <tr>\n",
       "      <th>1</th>\n",
       "      <td>2</td>\n",
       "      <td>-64.57</td>\n",
       "      <td>-16.25</td>\n",
       "      <td>0.00</td>\n",
       "      <td>-0.00</td>\n",
       "      <td>0.0</td>\n",
       "    </tr>\n",
       "    <tr>\n",
       "      <th>2</th>\n",
       "      <td>3</td>\n",
       "      <td>-69.64</td>\n",
       "      <td>-16.27</td>\n",
       "      <td>-5.61</td>\n",
       "      <td>-5.61</td>\n",
       "      <td>0.0</td>\n",
       "    </tr>\n",
       "    <tr>\n",
       "      <th>3</th>\n",
       "      <td>4</td>\n",
       "      <td>-75.76</td>\n",
       "      <td>-16.32</td>\n",
       "      <td>-9.53</td>\n",
       "      <td>-9.53</td>\n",
       "      <td>0.0</td>\n",
       "    </tr>\n",
       "    <tr>\n",
       "      <th>4</th>\n",
       "      <td>5</td>\n",
       "      <td>-79.34</td>\n",
       "      <td>-16.39</td>\n",
       "      <td>-12.14</td>\n",
       "      <td>-12.14</td>\n",
       "      <td>0.0</td>\n",
       "    </tr>\n",
       "  </tbody>\n",
       "</table>\n",
       "</div>"
      ],
      "text/plain": [
       "   t      V      U      I  I_High  I_Low\n",
       "0  1 -64.76 -16.25   0.00   -0.00    0.0\n",
       "1  2 -64.57 -16.25   0.00   -0.00    0.0\n",
       "2  3 -69.64 -16.27  -5.61   -5.61    0.0\n",
       "3  4 -75.76 -16.32  -9.53   -9.53    0.0\n",
       "4  5 -79.34 -16.39 -12.14  -12.14    0.0"
      ]
     },
     "execution_count": 70,
     "metadata": {},
     "output_type": "execute_result"
    }
   ],
   "source": [
    "df2.head()"
   ]
  },
  {
   "cell_type": "code",
   "execution_count": null,
   "metadata": {},
   "outputs": [],
   "source": [
    "tratado = df\n",
    "tratado.drop([0,1,2,3,4,5,6,7,8,9,10,11,12],axis=1,inplace=True)\n",
    "tratado.drop(list(range(0,200)),axis=0,inplace=True)\n",
    "tratado.drop(list(range(300,400)),axis=0,inplace=True)\n",
    "tratado.drop(list(range(500,600)),axis=0,inplace=True)\n",
    "tratado.drop(list(range(700,1200)),axis=0,inplace=True)\n",
    "tratado.drop(list(range(1300,1500)),axis=0,inplace=True)\n",
    "tratado.drop(list(range(1600,5001)),axis=0,inplace=True)\n",
    "tratado = tratado.iloc[200:300,:]\n",
    "tratado"
   ]
  },
  {
   "cell_type": "code",
   "execution_count": null,
   "metadata": {
    "scrolled": false
   },
   "outputs": [],
   "source": [
    "def plot_corr(corr):\n",
    "    # Cortaremos a metade de cima pois é o espelho da metade de baixo\n",
    "    mask = np.zeros_like(corr, dtype=np.bool)\n",
    "    mask[np.triu_indices_from(mask, 1)] = True\n",
    "\n",
    "    sns.heatmap(corr, mask=mask, cmap='YlGnBu', square=True, linewidths=.5)\n",
    "    \n",
    "corr = df1.drop(['t'],axis=1).corr()\n",
    "plot_corr(corr)\n"
   ]
  },
  {
   "cell_type": "code",
   "execution_count": null,
   "metadata": {},
   "outputs": [],
   "source": []
  }
 ],
 "metadata": {
  "kernelspec": {
   "display_name": "Python 3",
   "language": "python",
   "name": "python3"
  },
  "language_info": {
   "codemirror_mode": {
    "name": "ipython",
    "version": 3
   },
   "file_extension": ".py",
   "mimetype": "text/x-python",
   "name": "python",
   "nbconvert_exporter": "python",
   "pygments_lexer": "ipython3",
   "version": "3.6.2"
  }
 },
 "nbformat": 4,
 "nbformat_minor": 2
}
